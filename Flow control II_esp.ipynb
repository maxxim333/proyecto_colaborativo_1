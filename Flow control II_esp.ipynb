{
 "cells": [
  {
   "cell_type": "markdown",
   "id": "raised-meter",
   "metadata": {
    "toc": true
   },
   "source": [
    "<h1>Table of Contents<span class=\"tocSkip\"></span></h1>\n",
    "<div class=\"toc\"><ul class=\"toc-item\"><li><span><a href=\"#The-&quot;while&quot;-statement\" data-toc-modified-id=\"The-&quot;while&quot;-statement-1\"><span class=\"toc-item-num\">1&nbsp;&nbsp;</span>The \"while\" statement</a></span></li><li><span><a href=\"#Pass,--continue-&amp;-break\" data-toc-modified-id=\"Pass,--continue-&amp;-break-2\"><span class=\"toc-item-num\">2&nbsp;&nbsp;</span>Pass,  continue &amp; break</a></span></li><li><span><a href=\"#For\" data-toc-modified-id=\"For-3\"><span class=\"toc-item-num\">3&nbsp;&nbsp;</span>For</a></span><ul class=\"toc-item\"><li><span><a href=\"#Iterate-through-strings\" data-toc-modified-id=\"Iterate-through-strings-3.1\"><span class=\"toc-item-num\">3.1&nbsp;&nbsp;</span>Iterate through strings</a></span></li><li><span><a href=\"#Iterate-through-a-list\" data-toc-modified-id=\"Iterate-through-a-list-3.2\"><span class=\"toc-item-num\">3.2&nbsp;&nbsp;</span>Iterate through a list</a></span></li><li><span><a href=\"#We-iterate-through-lists-over-their-index\" data-toc-modified-id=\"We-iterate-through-lists-over-their-index-3.3\"><span class=\"toc-item-num\">3.3&nbsp;&nbsp;</span>We iterate through lists over their index</a></span></li><li><span><a href=\"#Loop-through-two-lists-at-the-same-time\" data-toc-modified-id=\"Loop-through-two-lists-at-the-same-time-3.4\"><span class=\"toc-item-num\">3.4&nbsp;&nbsp;</span>Loop through two lists at the same time</a></span></li><li><span><a href=\"#Iterate-over-the-elements-of-a-dictionary\" data-toc-modified-id=\"Iterate-over-the-elements-of-a-dictionary-3.5\"><span class=\"toc-item-num\">3.5&nbsp;&nbsp;</span>Iterate over the elements of a dictionary</a></span></li></ul></li><li><span><a href=\"#Summary\" data-toc-modified-id=\"Summary-4\"><span class=\"toc-item-num\">4&nbsp;&nbsp;</span>Summary</a></span></li></ul></div>"
   ]
  },
  {
   "cell_type": "markdown",
   "id": "17832115",
   "metadata": {
    "lang": "en"
   },
   "source": [
    "# Mantengamos el flujo\n",
    "![FLUJO](https://media.giphy.com/media/h8y265b9iKtzKT0pDj/giphy.gif)\n",
    "¡Bienvenido de nuevo al mundo salvaje de la programación en Python! En nuestras sesiones anteriores, hemos conquistado el arte de las declaraciones condicionales y sumergido nuestros dedos en la tierra mágica de los bucles \"for\". Ahora, es momento de subir de nivel y embarcarnos en un emocionante viaje a través del encantador reino de los bucles.\n",
    "\n",
    "En este cuaderno, estaremos desentrañando los misterios de la declaración \"while\", dominando los secretos de \"pass\", \"continue\" y \"break\", y explorando más a fondo el versátil bucle \"for\". Aprenderemos a bailar con cadenas, movernos con listas, sincronizar nuestros movimientos con diccionarios, y mucho más.\n",
    "\n",
    "Así que abróchate el cinturón, ¡aventurero Pythonista! Es hora de sumergirse en el mundo de los bucles y abrazar el poder de la iteración. Ya seas un programador experimentado o apenas estés comenzando tu viaje en Python, hay algo aquí para todos. ¡Zarpemos juntos en esta aventura de codificación! 🐍🌟\n",
    "\n",
    "## La declaración \"while\"\n",
    "\n",
    "En Python, la declaración `while` es una herramienta poderosa cuando necesitas ejecutar un bloque de código repetidamente mientras una cierta condición se mantenga verdadera. Piensa en ello como tu fiel compañero para esos escenarios dinámicos donde no sabes exactamente cuántas iteraciones necesitarás de antemano.\n",
    "\n",
    "**Cuándo Usar \"while\" en Vez de \"for\"**\n",
    "\n",
    "Imagina que estás construyendo una aplicación empresarial, y quieres seguir procesando pedidos de clientes hasta que tu inventario esté vacío o hasta que se alcance un objetivo de ventas específico. Aquí es donde brilla la declaración \"while\". En un contexto empresarial, usarías el bucle \"while\" cuando:\n",
    "\n",
    "1. **Condiciones Dinámicas:** Tienes una situación donde el número de iteraciones no está predeterminado. Por ejemplo, estás procesando continuamente pedidos de clientes hasta alcanzar un objetivo de ventas específico, y ese objetivo varía de día a día.\n",
    "\n",
    "2. **Monitoreo en Tiempo Real:** Necesitas monitorear un sistema o proceso en tiempo real y tomar acción basada en condiciones cambiantes. Por ejemplo, quieres ajustar los niveles de producción en respuesta a fluctuaciones en la demanda.\n",
    "\n",
    "3. **Entrada de Usuario Interactiva:** Estás diseñando una aplicación interactiva que espera la entrada del usuario, como un chatbot que responde a mensajes de usuarios hasta que el usuario decide salir de la conversación.\n",
    "\n",
    "La declaración \"while\" permite que tu programa se adapte dinámicamente a las cambiantes condiciones del mundo real. Sigue funcionando hasta que una condición específica se vuelve falsa, haciéndola ideal para escenarios donde la flexibilidad y la capacidad de respuesta son clave.\n",
    "\n",
    "Así que, mientras que el bucle \"for\" sobresale en situaciones donde tienes una secuencia fija o colección de ítems para iterar, el bucle \"while\" es tu elección principal cuando tratas con escenarios que demandan iteración dinámica y condicionada en el siempre cambiante paisaje de las operaciones empresariales.\n",
    "\n",
    "**Nota:** ¡Cuidado con las recursiones infinitas!"
   ]
  },
  {
   "cell_type": "code",
   "execution_count": null,
   "id": "13143a55",
   "metadata": {},
   "outputs": [],
   "source": [
    "# Inicializar la variable de edad\n",
    "edad = 10\n",
    "\n",
    "# Definir el límite superior de edad para el bucle\n",
    "limite_edad = 18\n",
    "\n",
    "# Usar un bucle while para iterar mientras la edad sea menor o igual al límite de edad\n",
    "while edad <= limite_edad:\n",
    "    # Imprimir la edad actual\n",
    "    print(f\"La edad actual es {edad}\")\n",
    "    \n",
    "    # Incrementar la edad en 1 en cada iteración\n",
    "    edad += 1\n",
    "\n",
    "# El bucle se saldrá cuando la edad sea mayor que el límite de edad\n",
    "print(\"¡Ahora eres un adulto!\")"
   ]
  },
  {
   "cell_type": "markdown",
   "id": "cbe52113",
   "metadata": {},
   "source": [
    "En este ejemplo, estamos utilizando un bucle \"while\" para simular el incremento de la edad de una persona de 10 a 18, lo que típicamente se considera la transición de la infancia a la adultez. Aquí hay una explicación del código:\n",
    "\n",
    "1. Comenzamos con una edad inicial de 10 y establecemos el límite de edad en 18, la edad en la que el bucle terminará.\n",
    "\n",
    "2. Dentro del bucle \"while\", comprobamos si la edad es menor o igual al límite de edad. Si esta condición es verdadera, el bucle continúa ejecutándose.\n",
    "\n",
    "3. Dentro del bucle, imprimimos la edad actual utilizando una f-string para proporcionar un mensaje claro.\n",
    "\n",
    "4. Luego incrementamos la edad en 1 en cada iteración usando `age += 1`.\n",
    "\n",
    "5. El bucle se repite hasta que la edad se convierte en mayor que el límite de edad, momento en el cual el bucle sale.\n",
    "\n",
    "6. Finalmente, imprimimos un mensaje indicando que la persona es ahora un adulto.\n",
    "\n",
    "Este ejemplo demuestra cómo usar un bucle \"while\" para realizar una serie de acciones hasta que se cumpla una condición específica. Es un patrón común para tareas iterativas que no tienen un número predeterminado de iteraciones. Otro ejemplo:\n"
   ]
  },
  {
   "cell_type": "code",
   "execution_count": null,
   "id": "b5737ced",
   "metadata": {},
   "outputs": [],
   "source": [
    "# Inicializar la cantidad principal, la tasa de interés y el período de tiempo en años\n",
    "principal = 1000\n",
    "rate = 5  # Tasa de interés anual del 5%\n",
    "years = 10\n",
    "\n",
    "# Calcular el interés compuesto usando la fórmula\n",
    "# A = P(1 + r/n)^(nt)\n",
    "# donde A es la cantidad final, P es el capital inicial, r es la tasa de interés anual, n es el número de veces que el interés se compone por año, y t es el tiempo en años.\n",
    "n = 1  # Compuesto anualmente\n",
    "\n",
    "# Inicializar el contador de años\n",
    "current_year = 1\n",
    "\n",
    "while current_year <= years:\n",
    "    # Calcular el interés compuesto para el año actual\n",
    "    amount = principal * (1 + (rate / (100 * n))) ** (n * current_year)\n",
    "    \n",
    "    # Imprimir el resultado para el año actual\n",
    "    print(f\"Year {current_year}: ${amount:.2f}\")\n",
    "    \n",
    "    # Incrementar el año actual\n",
    "    current_year += 1"
   ]
  },
  {
   "cell_type": "markdown",
   "id": "ba1c5adf",
   "metadata": {
    "lang": "en"
   },
   "source": [
    "En este ejemplo, utilizamos un bucle \"while\" para calcular el interés compuesto durante un número especificado de años. El interés compuesto es el interés calculado tanto sobre el capital inicial como sobre el interés acumulado de periodos anteriores.\n",
    "\n",
    "**Conceptos Clave:**\n",
    "- Principal: La cantidad inicial de dinero invertido o prestado.\n",
    "- Tasa de Interés Anual: La tasa de interés anual como porcentaje.\n",
    "- Período de Tiempo: El número de años para el cual queremos calcular el interés compuesto.\n",
    "- Frecuencia de Capitalización: Con qué frecuencia se capitaliza el interés por año. En este ejemplo, se capitaliza anualmente (una vez al año).\n",
    "\n",
    "**Explicación:**\n",
    "\n",
    "1. Inicializamos la cantidad principal, la tasa de interés anual y el período de tiempo en años. Por ejemplo, empezamos con un principal de $1,000, una tasa de interés anual del 5%, y un período de tiempo de 10 años.\n",
    "\n",
    "2. Se utiliza la fórmula para calcular el interés compuesto, que es:\n",
    "   \n",
    "   ![Fórmula de Interés Compuesto](https://latex.codecogs.com/gif.latex?A&space;=&space;P&space;\\left(1&space;&plus;&space;\\frac{r}{n}\\right)^{nt})\n",
    "\n",
    "   Donde:\n",
    "   - A es el monto final.\n",
    "   - P es el principal.\n",
    "   - r es la tasa de interés anual.\n",
    "   - n es el número de veces que el interés se capitaliza por año.\n",
    "   - t es el tiempo en años.\n",
    "\n",
    "3. Establecemos la frecuencia de capitalización (n) en 1, indicando que el interés se capitaliza anualmente.\n",
    "\n",
    "4. Utilizando un bucle \"while\", iteramos sobre cada año desde 1 hasta el número especificado de años. Para cada año, calculamos el interés compuesto basado en la fórmula.\n",
    "\n",
    "5. Se imprime el monto calculado para cada año, mostrando cómo crece la inversión con el tiempo.\n",
    "\n",
    "Este ejemplo demuestra cómo utilizar un bucle \"while\" para simular el crecimiento de una inversión a lo largo de varios años, considerando el interés compuesto. Es una aplicación práctica de matemáticas y programación para cálculos financieros.\n",
    "\n",
    "En el caso de while True la expresión siempre se evaluará como verdadera por definición.\n",
    "Sería equivalente a:\n",
    "\n",
    "```python\n",
    "as long as true is true:\n",
    "    do something\n",
    "   ````"
   ]
  },
  {
   "cell_type": "markdown",
   "id": "587399ed",
   "metadata": {
    "lang": "en"
   },
   "source": [
    "🐒 - Escribe un programa que pregunta una letra entre la a y la d hasta que se entre una correcta."
   ]
  },
  {
   "cell_type": "code",
   "execution_count": null,
   "id": "7e2abd0d",
   "metadata": {},
   "outputs": [],
   "source": [
    "# Inicializa la variable letter\n",
    "letra = input(\"Letra entre a-d: \")\n",
    "\n",
    "# Define las letras aceptadas\n",
    "letras_aceptadas = [\"a\", \"b\", \"c\", \"d\"]\n",
    "\n",
    "# Utiliza un bucle while para solicitar repetidamente una entrada hasta que se proporcione una opción válida\n",
    "while letra not in letras_aceptadas:\n",
    "    print(\"Entrada inválida. Por favor, introduce una letra entre 'a' y 'd'.\")\n",
    "    letra = input(\"Letra entre a-d: \")\n",
    "\n",
    "# El bucle se sale cuando se proporciona una letra válida\n",
    "print(f\"Has introducido la letra: {letra}\")"
   ]
  },
  {
   "cell_type": "markdown",
   "id": "1fad63ba",
   "metadata": {},
   "source": [
    "En este ejemplo, utilizamos un bucle \"while\" para solicitar repetidamente al usuario que ingrese una opción hasta que proporcione una opción válida. El objetivo es asegurar que la entrada del usuario esté dentro de un rango específico de valores aceptados.\n",
    "\n",
    "**Conceptos Clave:**\n",
    "- Entrada del Usuario: Le pedimos al usuario que ingrese una letra.\n",
    "- Validación: Queremos asegurarnos de que la letra ingresada sea una de las opciones aceptadas (en este caso, letras entre 'a' y 'd').\n",
    "- Bucle \"while\": Utilizamos un bucle \"while\" para seguir pidiendo la entrada hasta que se proporcione una opción válida.\n",
    "\n",
    "**Explicación:**\n",
    "\n",
    "1. Inicialmente le pedimos al usuario que ingrese una letra usando la función `input`. La entrada se almacena en la variable `letra`.\n",
    "\n",
    "2. Creamos una lista llamada `letras_aceptadas` que contiene las opciones válidas, que son \"a\", \"b\", \"c\" y \"d\".\n",
    "\n",
    "3. Usando un bucle \"while\", verificamos si la `letra` ingresada no está en la lista de `letras_aceptadas`. Si no lo está, el bucle continúa ejecutándose.\n",
    "\n",
    "4. Dentro del bucle, volvemos a pedir al usuario que ingrese una letra, reasignando el valor a la variable `letra`. Este proceso se repite hasta que el usuario proporciona una opción válida.\n",
    "\n",
    "5. Una vez que el usuario ingresa una letra dentro del rango aceptado, el bucle termina y el programa procede a los siguientes pasos o acciones.\n",
    "\n",
    "Este ejemplo demuestra cómo crear un mecanismo simple de validación de entrada de usuario utilizando un bucle \"while\". Asegura que la entrada del usuario cumpla con criterios especificados antes de avanzar con la ejecución del programa.\n",
    "\n",
    "### Desafío Empresarial: Identificar Oportunidades de Inversión Rentables\n",
    "\n",
    "**Tarea:** Escribe un programa en Python para ayudar a un analista financiero a identificar oportunidades de inversión potencialmente rentables basadas en datos históricos.\n",
    "\n",
    "**Instrucciones:**\n",
    "\n",
    "0. **Primero que todo, proporciona el pseudocódigo de este ejercicio.**\n",
    "1. Pide al usuario que ingrese dos enteros: el número de oportunidades de inversión para analizar y el margen de beneficio mínimo aceptable (como porcentaje).\n",
    "2. Para cada oportunidad de inversión, solicita al usuario que ingrese el nombre de la inversión y su margen de beneficio asociado (como porcentaje).\n",
    "3. Verifica e imprime los nombres de las oportunidades de inversión que cumplan o superen el margen de beneficio mínimo aceptable.\n",
    "4. Asegúrate de que el usuario ingrese un número válido de oportunidades y un margen de beneficio válido.\n",
    "5. Utiliza un bucle for para iterar a través de cada oportunidad de inversión.\n",
    "6. Implementa una condición para verificar si el margen de beneficio es mayor o igual al margen aceptable mínimo.\n",
    "7. Imprime los nombres de las oportunidades de inversión rentables.\n",
    "\n",
    "**Consejos:**\n",
    "\n",
    "- Asegúrate de que el usuario ingrese un número válido de oportunidades de inversión y margen de beneficio (ambos deben ser positivos).\n",
    "- Utiliza cadenas formateadas para mostrar los resultados claramente.\n",
    "\n",
    "**Ejemplo de Salida:**\n",
    "\n",
    "```python\n",
    "¡Bienvenido al Analizador de Oportunidades de Inversión!\n",
    "Por favor, introduce el número de oportunidades de inversión: 3\n",
    "Por favor, introduce el margen de beneficio mínimo aceptable (como porcentaje): 10\n",
    "\n",
    "Introduce los detalles de la oportunidad de inversión 1:\n",
    "Nombre de la Inversión: Stock XYZ\n",
    "Margen de Beneficio (como porcentaje): 15\n",
    "\n",
    "Introduce los detalles de la oportunidad de inversión 2:\n",
    "Nombre de la Inversión: Proyecto Inmobiliario\n",
    "Margen de Beneficio (como porcentaje): 8\n",
    "\n",
    "Introduce los detalles de la oportunidad de inversión 3:\n",
    "Nombre de la Inversión: Startup Tecnológica\n",
    "Margen de Beneficio (como porcentaje): 12\n",
    "\n",
    "Oportunidades de inversión rentables (con un margen de beneficio del 10% o superior):\n",
    "1. Stock XYZ\n",
    "3. Startup Tecnológica\n",
    "```"
   ]
  },
  {
   "cell_type": "code",
   "execution_count": null,
   "id": "05dc47aa",
   "metadata": {},
   "outputs": [],
   "source": [
    "# Mensaje de bienvenida\n",
    "print(\"¡Bienvenido al Analizador de Oportunidades de Inversión!\")\n",
    "\n",
    "# Validación de entrada usando un bucle while\n",
    "num_oportunidades = int(input(\"Por favor, introduce el número de oportunidades de inversión: \"))\n",
    "margen_beneficio = float(input(\"Por favor, introduce el margen de beneficio mínimo aceptable (como porcentaje): \"))\n",
    "\n",
    "# Inicializar una lista para almacenar oportunidades rentables\n",
    "oportunidades_rentables = []\n",
    "\n",
    "# Recopilar detalles para cada oportunidad de inversión\n",
    "# for i in oportunidades: (continúa este código)\n",
    "\n",
    "\n",
    "# Imprimir oportunidades de inversión rentables\n",
    "# if oportunidades_rentables: (continúa esta parte)"
   ]
  },
  {
   "cell_type": "markdown",
   "id": "9af78e68",
   "metadata": {
    "lang": "en"
   },
   "source": [
    "## Pass, continue y break\n",
    "En Python, tenemos declaraciones de control de flujo que nos permiten gestionar el flujo de nuestros programas. Estas declaraciones nos ayudan a tomar decisiones, controlar bucles y manejar diversas situaciones. Vamos a explorar tres declaraciones de control de flujo importantes: `pass`, `continue` y `break`. [docs](https://docs.python.org/3/tutorial/controlflow.html)\n",
    "\n",
    "- **Pass:**\n",
    "\n",
    "  La declaración `pass` sirve como un marcador de posición en Python. Cuando estás escribiendo código y necesitas una declaración en un lugar determinado pero no quieres que realice ninguna acción aún, puedes usar `pass`. Es una forma de decirle a Python, \"Sé que debería haber algo aquí, pero aún no estoy listo para escribirlo.\" Se utiliza comúnmente cuando estás diseñando la estructura de tu código y necesitas completar los detalles más tarde. Por ejemplo, al definir una función o una clase, podrías usar `pass` hasta que estés listo para escribir el código real dentro de ellas.\n",
    "\n",
    "- **Continue:**\n",
    "\n",
    "  La declaración `continue` se utiliza dentro de los bucles (como `for` o `while`) para saltar el resto de la iteración actual y pasar a la siguiente. Imagina que estás iterando sobre una lista de números y, cuando se cumple una condición específica, quieres saltarte ese número y proceder al siguiente. Puedes usar `continue` para lograr esto. Es como decir, \"He terminado con esta parte del bucle; vamos al siguiente elemento.\"\n",
    "\n",
    "- **Break:**\n",
    "\n",
    "  La declaración `break` también se utiliza dentro de los bucles, pero es más poderosa. Cuando se encuentra, sale inmediatamente del bucle, incluso si las condiciones del bucle no se cumplen. Es como decir, \"He terminado con este bucle; salgamos de aquí.\" Podrías usar `break` cuando buscas un elemento específico en una lista. Una vez que lo encuentres, puedes salir del bucle en lugar de continuar iterando innecesariamente.\n",
    "\n",
    "Estas declaraciones de control de flujo te ayudan a gestionar el flujo de tu programa y tomar decisiones basadas en condiciones, asegurando que tu código se comporte de la manera que pretendes. Son herramientas esenciales para cualquier programador y pueden simplificar la lógica compleja.\n",
    "\n",
    "- `pass`: ignora, hace cosas y pasa a la siguiente iteración\n",
    "\n",
    "**Ejemplo 1:**"
   ]
  },
  {
   "cell_type": "code",
   "execution_count": null,
   "id": "a798c2c2",
   "metadata": {},
   "outputs": [],
   "source": [
    "# Ejemplo usando la declaración pass dentro de un bloque condicional\n",
    "x = 2\n",
    "\n",
    "if x > 5:\n",
    "    print(\"x es mayor que 5\")\n",
    "elif x < 5:\n",
    "    pass # trabajo en el futuro\n",
    "else:\n",
    "    print('revisión hecha')\n",
    "\n",
    "# Explicación:\n",
    "# En este ejemplo, tenemos una variable x con un valor de 10.\n",
    "# Utilizamos una declaración condicional (if-elif-else) para comprobar el valor de x.\n",
    "# - Si x es mayor que 5, imprime el mensaje \"x es mayor que 5.\"\n",
    "# - Si x es menor que 10 pero no mayor que 5, la declaración pass se utiliza como un marcador de posición.\n",
    "# - En el bloque \"else\", imprime el mensaje \"revisión hecha.\""
   ]
  },
  {
   "cell_type": "markdown",
   "id": "34fd0c0c",
   "metadata": {},
   "source": [
    "**Ejemplo 2:**"
   ]
  },
  {
   "cell_type": "code",
   "execution_count": null,
   "id": "deaed70a",
   "metadata": {},
   "outputs": [],
   "source": [
    "# Ejemplo usando la declaración pass dentro de un bucle\n",
    "list_of_names = [\"Alice\", \"Bob\", \"Charlie\", \"Dave\", \"Eve\"]\n",
    "\n",
    "for i in list_of_names:\n",
    "    if i.startswith(\"C\"):\n",
    "        pass\n",
    "    else:\n",
    "        print(\"No comienza con una C\")\n",
    "\n",
    "# Explicación:\n",
    "# Tenemos una lista de nombres almacenada en la variable 'list_of_names'.\n",
    "# Usamos un bucle 'for' para iterar a través de cada nombre en la lista.\n",
    "# Dentro del bucle, verificamos si el nombre comienza con la letra 'C' usando el método 'startswith'.\n",
    "# Aún no sabemos qué hará la condición, pero nos permite verificar si el bucle está funcionando."
   ]
  },
  {
   "cell_type": "markdown",
   "id": "6630b66a",
   "metadata": {},
   "source": [
    "- `continue`: para y va a la siguiente iteración.\n",
    "\n",
    "**Ejemplo 3:**"
   ]
  },
  {
   "cell_type": "code",
   "execution_count": null,
   "id": "9d2b1483",
   "metadata": {},
   "outputs": [],
   "source": [
    "list_of_names = [\"Clara\", \"Albert\", \"Laura\", \"Carla\"]\n",
    "\n",
    "for i in list_of_names:\n",
    "    if i.startswith(\"C\"):\n",
    "        # Continúa con la SIGUIENTE iteración si el nombre comienza con \"C\"\n",
    "        continue  # Esta línea instruye al programa a saltar el código restante en esta iteración\n",
    "        print(i)  # Esta línea no se ejecuta para nombres que comienzan con \"C\"\n",
    "    else:\n",
    "        # Imprime los nombres que no comienzan con \"C\"\n",
    "        print(i)"
   ]
  },
  {
   "cell_type": "markdown",
   "id": "d57347a0",
   "metadata": {},
   "source": [
    "- `break` para el loop\n",
    "\n",
    "**Ejemplo 4:**"
   ]
  },
  {
   "cell_type": "code",
   "execution_count": null,
   "id": "7a77b47f",
   "metadata": {},
   "outputs": [],
   "source": [
    "# Lista de nombres\n",
    "list_of_names = [\"Albert\", \"Clara\", \"Laura\", \"Carla\"]\n",
    "\n",
    "# Iterar a través de la lista\n",
    "for i in list_of_names:\n",
    "    # Verificar si el nombre comienza con \"C\"\n",
    "    if i.startswith(\"C\"):\n",
    "        # Si es así, salir del bucle inmediatamente usando \"break\"\n",
    "        break\n",
    "        # La siguiente línea no se ejecutará para nombres que comiencen con \"C\"\n",
    "        print(i)\n",
    "    else:\n",
    "        # Imprimir nombres que no comienzan con \"C\"\n",
    "        print(i)"
   ]
  },
  {
   "cell_type": "markdown",
   "id": "classical-passenger",
   "metadata": {},
   "source": [
    "## For\n",
    "![](https://i.imgflip.com/p8urh.jpg)"
   ]
  },
  {
   "cell_type": "markdown",
   "id": "fdb36275",
   "metadata": {
    "lang": "en"
   },
   "source": [
    "En nuestro viaje para dominar Python, ya nos hemos familiarizado con los conceptos básicos de los bucles `for`, que nos permiten iterar a través de secuencias de datos. Ahora, es momento de adentrarnos en aspectos más avanzados de los bucles `for` que nos proporcionan aún mayor control y versatilidad.\n",
    "\n",
    "- **El Poder del Rango:** Imagina tener la capacidad de generar secuencias de números sin esfuerzo, proporcionando una forma estructurada de controlar tus bucles. Ahí es donde entra en juego la función `range()`. Exploraremos cómo usarla para definir el inicio, el fin y el paso de tus secuencias.\n",
    "\n",
    "- **Iterando a Través de Listas:** Aunque iterar a través de una lista es un caso de uso común, descubriremos técnicas avanzadas. Aprenderemos cómo acceder a los elementos tanto por su valor como por su índice, lo que nos permite realizar operaciones más complejas de manera eficiente.\n",
    "\n",
    "- **Bucle Simultáneo con Zip:** A veces, necesitamos trabajar con múltiples listas o secuencias en paralelo. La función `zip()` de Python nos permite emparejar elementos correspondientes de diferentes secuencias juntos, simplificando las tareas que involucran trabajar con datos correlacionados.\n",
    "\n",
    "- **Aprovechando el Poder de los Diccionarios:** Los diccionarios, las tiendas de valores clave de Python, son estructuras de datos versátiles. Exploraremos cómo iterar a través de las claves, valores o ambos de un diccionario, proporcionando valiosas perspectivas sobre cómo extraer y manipular datos dentro de este contenedor estructurado.\n",
    "\n",
    "A través de estos conceptos avanzados, nos equiparemos con las herramientas necesarias para abordar desafíos de programación aún más complejos. ¡Embarquémonos en este viaje para desbloquear el potencial completo de los bucles `for` en Python!"
   ]
  },
  {
   "cell_type": "markdown",
   "id": "c0ff1577",
   "metadata": {},
   "source": [
    "**Ejemplo 1:**"
   ]
  },
  {
   "cell_type": "code",
   "execution_count": null,
   "id": "0402485f",
   "metadata": {},
   "outputs": [],
   "source": [
    "number = \"5678\"\n",
    "\n",
    "# Descomenta la siguiente línea para convertir 'number' en un entero\n",
    "# number = int(number)\n",
    "\n",
    "# Itera a través de cada carácter en la cadena 'number'\n",
    "for i in number:\n",
    "    # Imprime cada carácter\n",
    "    print(i)"
   ]
  },
  {
   "cell_type": "markdown",
   "id": "2469d9ff",
   "metadata": {},
   "source": [
    "**Ejemplo 2:**"
   ]
  },
  {
   "cell_type": "code",
   "execution_count": null,
   "id": "d05f9080",
   "metadata": {},
   "outputs": [],
   "source": [
    "# No se pueden iterar números\n",
    "number = 5678.567\n",
    "# number_str = str(number)  # Convierte el número a una cadena\n",
    "for digit in number_str:\n",
    "    print(digit)"
   ]
  },
  {
   "cell_type": "markdown",
   "id": "c0ab8879",
   "metadata": {},
   "source": [
    "**Ejemplo 3:**"
   ]
  },
  {
   "cell_type": "code",
   "execution_count": null,
   "id": "480131c0",
   "metadata": {},
   "outputs": [],
   "source": [
    "greetings_list = [\"Hello\", \"How\", \"are\", \"you\"]\n",
    "\n",
    "# Itera a través de cada elemento en greetings_list\n",
    "for _ in greetings_list:\n",
    "    # Imprime \"¡Hola!\" para cada elemento (el guion bajo _ se usa cuando no necesitamos el elemento actual)\n",
    "    print(\"¡Hola!\")"
   ]
  },
  {
   "cell_type": "markdown",
   "id": "a968f25d",
   "metadata": {
    "lang": "en"
   },
   "source": [
    "Cuando necesitamos un contador que se incremente con cada iteración, Python proporciona la función `range()`, que genera secuencias de enteros. Esta función es versátil y puede ser invocada de diferentes maneras:\n",
    "\n",
    "- `range(int)`: Cuando se llama con un solo argumento, genera una secuencia de enteros que comienza desde 0 hasta (pero sin incluir) el entero especificado."
   ]
  },
  {
   "cell_type": "code",
   "execution_count": null,
   "id": "28d8962f",
   "metadata": {},
   "outputs": [],
   "source": [
    "# Define una lista de saludos\n",
    "greetings_list = [\"Hello\", \"How\", \"are\", \"you\"]\n",
    "\n",
    "# Usa un bucle for para iterar sobre un rango de índices de la lista\n",
    "for i in range(len(greetings_list)):\n",
    "    # Imprime \"¡Hola!\" en cada iteración\n",
    "    print(\"¡Hola!\")\n"
   ]
  },
  {
   "cell_type": "code",
   "execution_count": null,
   "id": "19c9bdcd",
   "metadata": {},
   "outputs": [],
   "source": [
    "# Usa un bucle for para iterar sobre un rango de números desde 0 hasta 3 (exclusivo)\n",
    "for i in range(4):\n",
    "    # Imprime el valor actual de 'i' durante cada iteración\n",
    "    print(i)"
   ]
  },
  {
   "cell_type": "markdown",
   "id": "88f9f5a9",
   "metadata": {
    "lang": "en"
   },
   "source": [
    "- `range(int, int)`  Con dos argumentos. El primer parámetro es el valor inicial y el segundo es el valor por debajo del cual deben estar los elementos de la lista:"
   ]
  },
  {
   "cell_type": "code",
   "execution_count": null,
   "id": "b6aead72",
   "metadata": {},
   "outputs": [],
   "source": [
    "# Usa un bucle for para iterar sobre un rango de números desde 10 hasta 20 (exclusivo)\n",
    "for i in range(10, 21):\n",
    "    # Imprime el valor actual de 'i' durante cada iteración\n",
    "    print(i)"
   ]
  },
  {
   "cell_type": "markdown",
   "id": "81739599",
   "metadata": {
    "lang": "en"
   },
   "source": [
    "- Con tres argumentos. Igual que el anterior, pero el tercer parámetro indica el incremento que ocurre de un elemento al siguiente: `range(int, int, incremento)`"
   ]
  },
  {
   "cell_type": "code",
   "execution_count": null,
   "id": "9cfcda02",
   "metadata": {},
   "outputs": [],
   "source": [
    "# Usa un bucle for para iterar sobre un rango de números desde 10 hasta 20 (exclusivo), con un incremento de dos\n",
    "for i in range(10, 21, 2):\n",
    "    # Imprime el valor actual de 'i' durante cada iteración\n",
    "    print(i)"
   ]
  },
  {
   "cell_type": "markdown",
   "id": "closing-pound",
   "metadata": {
    "lang": "es"
   },
   "source": [
    "**Iterando a través de cadenas**\n",
    "\n",
    "Cuando trabajas con cadenas en Python, a menudo puedes necesitar acceder a caracteres individuales o subcadenas dentro de una cadena. El proceso de iterar a través de una cadena implica recorrer cada carácter uno por uno. Python proporciona formas simples y eficientes de iterar a través de cadenas, lo que te permite realizar varias operaciones en ellas.\n",
    "\n",
    "Vamos a explorar cómo iterar a través de cadenas en Python y aprovechar esta capacidad para una amplia gama de tareas de procesamiento de texto.\n",
    "\n",
    "**Ejemplo 1:**"
   ]
  },
  {
   "cell_type": "code",
   "execution_count": null,
   "id": "280c5c8c",
   "metadata": {},
   "outputs": [],
   "source": [
    "# Variable inicial\n",
    "greeting = \"Hello How Are youuUUuu\"\n",
    "\n",
    "# qué crees que hará\n",
    "for i in greeting:\n",
    "    print(i)"
   ]
  },
  {
   "cell_type": "markdown",
   "id": "d7f87167",
   "metadata": {},
   "source": [
    "**Ejemplo 2:**"
   ]
  },
  {
   "cell_type": "code",
   "execution_count": null,
   "id": "9a46553c",
   "metadata": {},
   "outputs": [],
   "source": [
    "# Crear una lista vacía para almacenar los caracteres en mayúsculas de la cadena 'greeting'.\n",
    "new_list = []\n",
    "\n",
    "# Iterar a través de cada carácter (letra) en la cadena 'greeting'.\n",
    "for i in greeting:\n",
    "    # Verificar si el carácter actual 'i' es mayúscula.\n",
    "    if i.isupper():\n",
    "        # Si el carácter es mayúscula, añadirlo a 'new_list'.\n",
    "        new_list.append(i)\n",
    "\n",
    "# Eliminar duplicados convirtiendo 'new_list' en un conjunto y luego de vuelta a una lista.\n",
    "new_list = list(set(new_list))\n",
    "\n",
    "# 'new_list' ahora contiene caracteres únicos en mayúsculas de la cadena 'greeting'.\n",
    "new_list"
   ]
  },
  {
   "cell_type": "markdown",
   "id": "e873ede0",
   "metadata": {
    "lang": "en"
   },
   "source": [
    "### Iterando a través de listas por su índice\n",
    "\n",
    "Cuando trabajas con listas en Python, puedes iterar a través de los elementos de una lista utilizando sus índices. Este enfoque te permite acceder tanto al índice como al elemento en sí dentro del bucle. En esta sección, exploraremos cómo iterar a través de listas por su índice, junto con algunas funciones integradas y la función `enumerate()`, que puede ser particularmente útil en tales escenarios.\n",
    "\n",
    "Para obtener más detalles, puedes referirte a la documentación de [Funciones Integradas de Python](https://docs.python.org/3/library/functions.html) y la función [enumerate()](https://book.pythontips.com/en/latest/enumerate.html).\n",
    "\n",
    "**Ejemplo 1:**"
   ]
  },
  {
   "cell_type": "code",
   "execution_count": null,
   "id": "21aed269",
   "metadata": {},
   "outputs": [],
   "source": [
    "fruits = [\"apple\", \"banana\", \"cherry\", \"date\"]\n",
    "\n",
    "# Iterando a través de la lista usando un bucle for y la función range()\n",
    "for i in range(len(fruits)):\n",
    "    print(f\"Índice {i}: {fruits[i]}\")"
   ]
  },
  {
   "cell_type": "markdown",
   "id": "f39d1be6",
   "metadata": {},
   "source": [
    "**Ejemplo 2:**"
   ]
  },
  {
   "cell_type": "code",
   "execution_count": null,
   "id": "4b7d6241",
   "metadata": {},
   "outputs": [],
   "source": [
    "fruits = [\"apple\", \"banana\", \"cherry\", \"date\"]\n",
    "\n",
    "# Iterando a través de la lista usando la función enumerate()\n",
    "for index, fruit in enumerate(fruits):\n",
    "    print(f\"Índice {index}: {fruit}\")"
   ]
  },
  {
   "cell_type": "markdown",
   "id": "73b7e30f",
   "metadata": {
    "lang": "en"
   },
   "source": [
    "### Iterar a través de dos listas al mismo tiempo\n",
    "\n",
    "En Python, a menudo te encuentras en situaciones donde necesitas trabajar con múltiples listas simultáneamente. Ya sea que estés comparando elementos, realizando cálculos o extrayendo datos de dos listas, Python proporciona una manera conveniente de iterar a través de ellas juntas usando la función `zip`.\n",
    "\n",
    "La función [zip](https://docs.python.org/3/library/functions.html#zip) empareja elementos de dos o más listas, creando un iterable que combina elementos correspondientes. Esto te permite acceder a elementos de cada lista simultáneamente durante el proceso de iteración.\n",
    "\n",
    "Es importante tener en cuenta que la función `zip` funciona sin problemas incluso si las listas son de diferentes tamaños. Sin embargo, ten en cuenta que la iteración continuará hasta que la lista más corta se haya agotado.\n",
    "\n",
    "En los siguientes ejemplos, exploraremos cómo usar la función `zip` para iterar a través de dos listas simultáneamente y realizar varias operaciones en sus elementos.\n",
    "\n",
    "**Ejemplo 1:**"
   ]
  },
  {
   "cell_type": "code",
   "execution_count": null,
   "id": "07432d76",
   "metadata": {},
   "outputs": [],
   "source": [
    "# Dos listas conteniendo nombres y ciudades\n",
    "list_of_names = [\"Albert\", \"Clara\", \"Laura\"]\n",
    "list_of_cities = [\"Mataró\", \"Bcn\", \"Mataró\"]\n",
    "\n",
    "# Bucle a través de las listas simultáneamente usando zip\n",
    "for name, city in zip(list_of_names, list_of_cities):\n",
    "    # Imprime un mensaje formateado para cada par de elementos\n",
    "    print(f\"Me llamo {name} y soy de {city}\")"
   ]
  },
  {
   "cell_type": "markdown",
   "id": "cd947a90",
   "metadata": {},
   "source": [
    "**Ejemplo 2:**"
   ]
  },
  {
   "cell_type": "code",
   "execution_count": null,
   "id": "0894d63a",
   "metadata": {},
   "outputs": [],
   "source": [
    "# Listas conteniendo nombres, ciudades y edades\n",
    "list_of_names = [\"Albert\", \"Clara\", \"Laura\"]\n",
    "list_of_cities = [\"Mataró\", \"Bcn\", \"Mataró\"]\n",
    "list_of_ages = [30, 30, 30]\n",
    "\n",
    "# Bucle a través de las listas simultáneamente usando enumerate y zip\n",
    "for index, (name, city, age) in enumerate(zip(list_of_names, list_of_cities, list_of_ages)):\n",
    "    # Imprime un mensaje formateado para cada persona\n",
    "    print(f\"Persona {index + 1}: 'Me llamo {name}, y soy de {city}. Tengo {age} años'\")"
   ]
  },
  {
   "cell_type": "markdown",
   "id": "a7f5de97",
   "metadata": {},
   "source": [
    "- `zip_longest`:que pas si quiero mantener la lista más larga?\n",
    "\n",
    "**Ejemplo 3**:"
   ]
  },
  {
   "cell_type": "code",
   "execution_count": null,
   "id": "e83994db",
   "metadata": {},
   "outputs": [],
   "source": [
    "from itertools import zip_longest\n",
    "\n",
    "# Listas con diferentes longitudes\n",
    "list1 = [1, 2, 3, 4, 5]\n",
    "list2 = ['a', 'b', 'c']\n",
    "\n",
    "# Usando zip_longest para mantener la lista más larga\n",
    "result = list(zip_longest(list1, list2, fillvalue=None))\n",
    "\n",
    "# Imprimiendo el resultado\n",
    "print(result)"
   ]
  },
  {
   "cell_type": "markdown",
   "id": "79ec05ae",
   "metadata": {},
   "source": [
    "**Ejemplo 4:**"
   ]
  },
  {
   "cell_type": "code",
   "execution_count": null,
   "id": "70c6d699",
   "metadata": {},
   "outputs": [],
   "source": [
    "from itertools import zip_longest\n",
    "\n",
    "list1 = [1, 2, 3, 4, 5]\n",
    "list2 = ['a', 'b', 'c']\n",
    "\n",
    "# Usando zip_longest para mantener la lista más larga\n",
    "result = list(zip_longest(list1, list2, fillvalue=None))\n",
    "\n",
    "# Iterando a través del resultado combinado en un bucle for\n",
    "for item in result:\n",
    "    print(item)"
   ]
  },
  {
   "cell_type": "markdown",
   "id": "cd740c33",
   "metadata": {
    "lang": "en"
   },
   "source": [
    "### Iterar sobre los elementos de un diccionario\n",
    "\n",
    "Iterar sobre los elementos de un diccionario te permite acceder y procesar cada par clave-valor (ítem) almacenado en el diccionario uno por uno. Python proporciona varios métodos y técnicas para lograr esto, facilitando el trabajo con datos de diccionario.\n",
    "\n",
    "Puedes iterar sobre un diccionario de diferentes maneras, dependiendo del aspecto específico del diccionario con el que quieras trabajar:\n",
    "\n",
    "1. **Iterar Sobre las Claves:**\n",
    "   Puedes usar un bucle `for` para iterar sobre las claves de un diccionario. En este caso, iteras a través de las claves del diccionario, y luego puedes acceder a los valores correspondientes usando estas claves.\n",
    "\n",
    "2. **Iterar Sobre Pares Clave-Valor:**\n",
    "   Puedes usar el método `items()` para iterar tanto sobre las claves como sobre los valores simultáneamente. Este método devuelve un objeto de vista que contiene tuplas de pares clave-valor, los cuales puedes desempaquetar fácilmente dentro del bucle.\n",
    "\n",
    "3. **Iterar Sobre los Valores:**\n",
    "   Si solo necesitas iterar a través de los valores en el diccionario, puedes usar el método `values()`. Esto te permite acceder y procesar los valores sin necesidad de las claves asociadas.\n",
    "\n",
    "Iterar sobre los elementos de un diccionario es una técnica fundamental para trabajar con datos estructurados en Python. Dependiendo de tus necesidades específicas, puedes elegir el método apropiado para acceder y manipular los datos dentro del diccionario.\n",
    "\n",
    "- **Iterar Sobre las Claves**: Puedes usar un bucle `for` para iterar sobre las claves de un diccionario. En este caso, iteras a través de las claves del diccionario, y luego puedes acceder a los valores correspondientes usando estas claves. Aquí tienes un ejemplo:"
   ]
  },
  {
   "cell_type": "code",
   "execution_count": null,
   "id": "4812c22e",
   "metadata": {},
   "outputs": [],
   "source": [
    "# Definir un diccionario de calificaciones de estudiantes\n",
    "student_grades = {\n",
    "    \"Alice\": 95,\n",
    "    \"Bob\": 89,\n",
    "    \"Charlie\": 92,\n",
    "    \"David\": 88\n",
    "}\n",
    "\n",
    "# Iterar sobre las claves e imprimir los nombres de los estudiantes y sus calificaciones\n",
    "for student in student_grades:\n",
    "    print(f\"{student}: {student_grades[student]}\")"
   ]
  },
  {
   "cell_type": "markdown",
   "id": "bd904111",
   "metadata": {},
   "source": [
    "- **Iterar Sobre Pares Clave-Valor**: Puedes usar el método `items()` para iterar tanto sobre las claves como sobre los valores de un diccionario simultáneamente. Este método devuelve un objeto de vista que contiene tuplas de pares clave-valor, los cuales puedes desempaquetar fácilmente dentro del bucle."
   ]
  },
  {
   "cell_type": "code",
   "execution_count": null,
   "id": "b9a130cb",
   "metadata": {},
   "outputs": [],
   "source": [
    "# Definir un diccionario de calificaciones de estudiantes\n",
    "student_grades = {\n",
    "    \"Alice\": 95,\n",
    "    \"Bob\": 89,\n",
    "    \"Charlie\": 92,\n",
    "    \"David\": 88\n",
    "}\n",
    "\n",
    "# Iterar sobre pares clave-valor e imprimir los nombres de los estudiantes y sus calificaciones\n",
    "for student, grade in student_grades.items():\n",
    "    print(f\"{student}: {grade}\")"
   ]
  },
  {
   "cell_type": "markdown",
   "id": "cb6bd705",
   "metadata": {},
   "source": [
    "- **Iterar Sobre los Valores**: Si solo necesitas iterar a través de los valores en un diccionario, puedes usar el método `values()`. Esto te permite acceder y procesar los valores sin necesidad de las claves asociadas."
   ]
  },
  {
   "cell_type": "code",
   "execution_count": null,
   "id": "8abaca73",
   "metadata": {},
   "outputs": [],
   "source": [
    "# Definir un diccionario de calificaciones de estudiantes\n",
    "student_grades = {\n",
    "    \"Alice\": 95,\n",
    "    \"Bob\": 89,\n",
    "    \"Charlie\": 92,\n",
    "    \"David\": 88\n",
    "}\n",
    "\n",
    "# Iterar sobre los valores e imprimir las calificaciones de los estudiantes\n",
    "for grade in student_grades.values():\n",
    "    print(grade)"
   ]
  },
  {
   "cell_type": "markdown",
   "id": "8dad50f1",
   "metadata": {},
   "source": [
    "### Business challenge: Gestión de datos de una compañía de taxis\n",
    "\n",
    "**Escenario empresarial:**\n",
    "Se te ha encargado desarrollar un programa en Python para una compañía de taxis en Barcelona. El programa debería ayudar a la compañía a gestionar datos relacionados con sus taxis, conductores y viajes. La compañía de taxis necesita almacenar y manipular estos datos de manera eficiente para optimizar sus operaciones.\n",
    "\n",
    "**Instrucciones:**\n",
    "\n",
    "1. Crear un diccionario para almacenar información sobre los conductores de taxi. Cada conductor debe tener un ID de conductor único (un valor numérico) y los siguientes detalles:\n",
    "   - Nombre completo del conductor\n",
    "   - Número de contacto\n",
    "   - Número total de viajes realizados\n",
    "\n",
    "2. Crear una lista para almacenar información sobre los viajes en taxi. Cada viaje debe incluir los siguientes detalles:\n",
    "   - ID del viaje (un identificador único)\n",
    "   - ID del conductor (para asociar el viaje con un conductor)\n",
    "   - Nombre del cliente\n",
    "   - Distancia del viaje (en kilómetros)\n",
    "   - Tarifa del viaje (en euros)\n",
    "\n",
    "3. Implementar las siguientes funcionalidades dentro de tu programa en Python:\n",
    "   - Proporcionar el pseudocódigo\n",
    "   - Añadir nuevos conductores al diccionario de conductores.\n",
    "   - Registrar nuevos viajes en taxi con los detalles relevantes.\n",
    "   - Calcular y actualizar el número total de viajes realizados por cada conductor.\n",
    "   - Calcular los ingresos totales generados por la compañía de taxis.\n",
    "   - Encontrar al conductor con el mayor número de viajes.\n",
    "   - Encontrar al conductor con los ingresos totales más altos.\n",
    "   - Listar todos los viajes realizados por un conductor específico."
   ]
  },
  {
   "cell_type": "code",
   "execution_count": null,
   "id": "def091dd",
   "metadata": {},
   "outputs": [],
   "source": [
    "# Inicializar diccionarios y listas para almacenar datos de conductores y viajes\n",
    "driver_data = {}\n",
    "trip_data = []\n",
    "\n",
    "# Añadir nuevos conductores al diccionario de conductores\n",
    "driver_data[1] = {\"full_name\": \"John Doe\", \"contact_number\": \"123-456-7890\", \"total_trips\": 0}\n",
    "# Continuar con más\n",
    "\n",
    "# Registrar nuevos viajes en taxi con los detalles relevantes\n",
    "trip_data.append({\"trip_id\": 101, \"driver_id\": 1, \"customer_name\": \"Cliente A\", \"distance\": 10.5, \"fare\": 15.75})\n",
    "# Continuar con más\n",
    "\n",
    "# Aquí va tu código"
   ]
  },
  {
   "cell_type": "markdown",
   "id": "d276cc0c",
   "metadata": {},
   "source": [
    "## Resumen\n",
    "Es tu turno, ¿qué hemos aprendido hoy?\n",
    "\n",
    "### CONDICIONES\n",
    "\n",
    "- `if/elif/else`\n",
    "    - if vs elif\n",
    "        - if & if: más de 1 condición a la vez: no exclusivas\n",
    "        - if & elif: condiciones exclusivas\n",
    "    - else: útil pero ten cuidado de no ser demasiado general\n",
    "    \n",
    "- `booleans: tipo de dato`\n",
    "    - verdaderos/falsos\n",
    "        - verdadero: el resto\n",
    "        - falso: vacío, 0, False, None\n",
    "    - bool()\n",
    "    - True / False\n",
    "    \n",
    "### BUCLE\n",
    "\n",
    "- while (mientras haya una condición que no se cumpla)\n",
    "    - hasta que se cumpla una condición: mantener las cosas funcionando hasta que suceda\n",
    "\n",
    "- for (mientras haya elementos para iterar)\n",
    "    - iterables:\n",
    "        - tipos de datos: cadenas\n",
    "        - estructuras de datos: listas, tuplas, conjuntos, diccionarios\n",
    "            - diccionario: i, .items, .keys, .values\n",
    "            \n",
    "    - elementos Y/O el índice\n",
    "        - `for elemento in iterable:`\n",
    "            - elemento: elemento\n",
    "        - `for indice in range(len(iterable)):`\n",
    "            - `indice`\n",
    "            - elemento: iterable[indice]\n",
    "    \n",
    "    - rangos\n",
    "        - range(4): 0, 1, 2, 3\n",
    "        - range(10, 21, 2): 10, 12, 14, 16, 18, 20\n",
    "    \n",
    "    - enumerate: índice y elemento\n",
    "        - `for indice, elemento in iterable`\n",
    "    \n",
    "    - zip: más de un iterable a la vez\n",
    "        - `for el1, el2, el3 in zip(iterable1, iterable2, iterable3)`\n",
    "    \n",
    "    - zip y enumerate pueden usarse juntos\n",
    "    \n",
    "    - los bucles pueden anidarse: [[[[]]]]\n",
    "        - for i in iterable\n",
    "            - for j in i\n",
    "                - for k in j\n",
    "                       - for l in k ....\n",
    "    \n",
    "    \n",
    "- pass/continue/break\n",
    "    - pass: ignora\n",
    "    - continue: ignora lo de abajo y continúa con la siguiente iteración\n",
    "    - break: detiene todo el bucle"
   ]
  },
  {
   "cell_type": "markdown",
   "id": "bec5343f",
   "metadata": {},
   "source": [
    "### Soluciones"
   ]
  },
  {
   "cell_type": "code",
   "execution_count": null,
   "id": "4843fe43",
   "metadata": {},
   "outputs": [],
   "source": [
    "## Business Challenge: Identify Profitable Investment Opportunities\n",
    "\n",
    "# Welcome message\n",
    "print(\"Welcome to the Investment Opportunity Analyzer!\")\n",
    "\n",
    "# Input validation using a while loop\n",
    "num_opportunities = int(input(\"Please enter the number of investment opportunities: \"))\n",
    "profit_margin = float(input(\"Please enter the minimum acceptable profit margin (as a percentage): \"))\n",
    "\n",
    "# Initialize a list to store profitable opportunities\n",
    "profitable_opportunities = []\n",
    "\n",
    "# Gather details for each investment opportunity\n",
    "for i in range(1, num_opportunities + 1):\n",
    "    print(f\"\\nEnter details for investment opportunity {i}:\")\n",
    "    investment_name = input(\"Investment Name: \")\n",
    "    investment_margin = float(input(\"Profit Margin (as a percentage): \"))\n",
    "    \n",
    "    # Check if the profit margin meets or exceeds the minimum acceptable margin\n",
    "    if investment_margin >= profit_margin:\n",
    "        profitable_opportunities.append(investment_name)\n",
    "\n",
    "# Print profitable investment opportunities\n",
    "if profitable_opportunities:\n",
    "    print(\"\\nProfitable investment opportunities (with a profit margin of \"\n",
    "          f\"{profit_margin}% or higher):\")\n",
    "    for idx, opportunity in enumerate(profitable_opportunities, start=1):\n",
    "        print(f\"{idx}. {opportunity}\")\n",
    "else:\n",
    "    print(\"\\nNo profitable investment opportunities found.\")"
   ]
  },
  {
   "cell_type": "code",
   "execution_count": null,
   "id": "6865b909",
   "metadata": {},
   "outputs": [],
   "source": [
    "# ### Business challenge: Taxi Company Data Management\n",
    "# Initialize dictionaries and lists to store driver and trip data\n",
    "driver_data = {}\n",
    "trip_data = []\n",
    "\n",
    "# Add new drivers to the driver dictionary\n",
    "driver_data[1] = {\"full_name\": \"John Doe\", \"contact_number\": \"123-456-7890\", \"total_trips\": 0}\n",
    "driver_data[2] = {\"full_name\": \"Alice Smith\", \"contact_number\": \"987-654-3210\", \"total_trips\": 0}\n",
    "driver_data[3] = {\"full_name\": \"Bob Johnson\", \"contact_number\": \"555-123-4567\", \"total_trips\": 0}\n",
    "\n",
    "# Record new taxi trips with relevant details\n",
    "trip_data.append({\"trip_id\": 101, \"driver_id\": 1, \"customer_name\": \"Customer A\", \"distance\": 10.5, \"fare\": 15.75})\n",
    "trip_data.append({\"trip_id\": 102, \"driver_id\": 2, \"customer_name\": \"Customer B\", \"distance\": 8.7, \"fare\": 12.50})\n",
    "trip_data.append({\"trip_id\": 103, \"driver_id\": 3, \"customer_name\": \"Customer C\", \"distance\": 12.3, \"fare\": 18.25})\n",
    "trip_data.append({\"trip_id\": 104, \"driver_id\": 1, \"customer_name\": \"Customer D\", \"distance\": 9.8, \"fare\": 14.00})\n",
    "\n",
    "# Calculate total revenue generated by the taxi company\n",
    "total_revenue = 0\n",
    "for trip in trip_data:\n",
    "    total_revenue += trip[\"fare\"]\n",
    "print(f\"Total revenue: ${total_revenue:.2f}\")\n",
    "\n",
    "# Find the driver with the highest number of trips\n",
    "max_trips_driver_id = 0\n",
    "max_trips = 0\n",
    "for driver_id, driver_info in driver_data.items():\n",
    "    if driver_info[\"total_trips\"] > max_trips:\n",
    "        max_trips_driver_id = driver_id\n",
    "        max_trips = driver_info[\"total_trips\"]\n",
    "print(f\"Driver with the most trips (Driver ID {max_trips_driver_id}): {driver_data[max_trips_driver_id]['full_name']}\")\n",
    "\n",
    "# Find the driver with the highest total revenue\n",
    "max_revenue_driver_id = 0\n",
    "max_revenue = 0\n",
    "for driver_id, driver_info in driver_data.items():\n",
    "    driver_revenue = sum(trip[\"fare\"] for trip in trip_data if trip[\"driver_id\"] == driver_id)\n",
    "    if driver_revenue > max_revenue:\n",
    "        max_revenue_driver_id = driver_id\n",
    "        max_revenue = driver_revenue\n",
    "print(f\"Driver with the highest revenue (Driver ID {max_revenue_driver_id}): {driver_data[max_revenue_driver_id]['full_name']}\")\n",
    "\n",
    "# List all the trips conducted by a specific driver\n",
    "driver_id_to_list = 1\n",
    "print(f\"Trips conducted by Driver ID {driver_id_to_list} ({driver_data[driver_id_to_list]['full_name']}):\")\n",
    "for trip in trip_data:\n",
    "    if trip[\"driver_id\"] == driver_id_to_list:\n",
    "        print(f\"Trip ID {trip['trip_id']}: Customer {trip['customer_name']}, Distance: {trip['distance']} km, Fare: ${trip['fare']:.2f}\")\n"
   ]
  }
 ],
 "metadata": {
  "kernelspec": {
   "display_name": "Python 3 (ipykernel)",
   "language": "python",
   "name": "python3"
  },
  "language_info": {
   "codemirror_mode": {
    "name": "ipython",
    "version": 3
   },
   "file_extension": ".py",
   "mimetype": "text/x-python",
   "name": "python",
   "nbconvert_exporter": "python",
   "pygments_lexer": "ipython3",
   "version": "3.9.13"
  },
  "nbTranslate": {
   "displayLangs": [
    "en",
    "es"
   ],
   "hotkey": "alt-a",
   "langInMainMenu": true,
   "sourceLang": "es",
   "targetLang": "en",
   "useGoogleTranslate": true
  },
  "toc": {
   "base_numbering": 1,
   "nav_menu": {},
   "number_sections": true,
   "sideBar": true,
   "skip_h1_title": true,
   "title_cell": "Table of Contents",
   "title_sidebar": "Contents",
   "toc_cell": true,
   "toc_position": {
    "height": "calc(100% - 180px)",
    "left": "10px",
    "top": "150px",
    "width": "253.097px"
   },
   "toc_section_display": true,
   "toc_window_display": true
  }
 },
 "nbformat": 4,
 "nbformat_minor": 5
}
